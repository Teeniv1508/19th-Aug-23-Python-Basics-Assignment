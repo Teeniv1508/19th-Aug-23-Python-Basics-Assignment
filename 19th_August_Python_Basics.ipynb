{
 "cells": [
  {
   "cell_type": "code",
   "execution_count": null,
   "id": "06f14734-9c84-4c4a-a477-b665bfe8e1de",
   "metadata": {},
   "outputs": [],
   "source": [
    "# TOPIC: Python Basics Variable"
   ]
  },
  {
   "cell_type": "code",
   "execution_count": 3,
   "id": "1f461007-e304-4f49-b7d5-dd132bdca139",
   "metadata": {},
   "outputs": [
    {
     "data": {
      "text/plain": [
       "(15, 10)"
      ]
     },
     "execution_count": 3,
     "metadata": {},
     "output_type": "execute_result"
    }
   ],
   "source": [
    "''' 1. Declare two variables, `x` and `y`, and assign them integer values. Swap the\n",
    "values of these variables without using any temporary variable. '''\n",
    "\n",
    "x,y = 15,10\n",
    "#Swapping values\n",
    "x,y=y,x\n",
    "#Print swap values\n",
    "y,x"
   ]
  },
  {
   "cell_type": "code",
   "execution_count": 5,
   "id": "c93608fc-fb83-4339-8232-9dbbcc17502c",
   "metadata": {},
   "outputs": [
    {
     "name": "stdin",
     "output_type": "stream",
     "text": [
      " 5\n",
      " 8\n"
     ]
    },
    {
     "name": "stdout",
     "output_type": "stream",
     "text": [
      "area of rectangle : 40 \n"
     ]
    }
   ],
   "source": [
    "''' 2. Create a program that calculates the area of a rectangle. Take the length and\n",
    "width as inputs from the user and store them in variables. Calculate and\n",
    "display the area. '''\n",
    "\n",
    "# lenght and width from user\n",
    "lenght = int(input())\n",
    "width = int(input())\n",
    "# Area\n",
    "area = lenght*width\n",
    "print(f\"area of rectangle : {area} \")"
   ]
  },
  {
   "cell_type": "code",
   "execution_count": 9,
   "id": "cbd32650-f178-4e1c-bb0b-772e11a1860b",
   "metadata": {},
   "outputs": [
    {
     "name": "stdin",
     "output_type": "stream",
     "text": [
      " 32\n"
     ]
    },
    {
     "name": "stdout",
     "output_type": "stream",
     "text": [
      "Temp in C : 32 and Temp in F : 89.6\n"
     ]
    }
   ],
   "source": [
    "''' 3. Write a Python program that converts temperatures from Celsius to\n",
    "Fahrenheit. Take the temperature in Celsius as input, store it in a variable,\n",
    "convert it to Fahrenheit, and display the result. '''\n",
    "\n",
    "# Take temp from user in celsius\n",
    "TempC = int(input())\n",
    "#Convert to Fahrenheit\n",
    "TempF = (9/5)*TempC + 32 \n",
    "print(f\"Temp in C : {TempC} and Temp in F : {TempF}\" )"
   ]
  },
  {
   "cell_type": "code",
   "execution_count": 10,
   "id": "14b0e025-02e2-42bb-b586-9f757dcebc2a",
   "metadata": {},
   "outputs": [],
   "source": [
    "# TOPIC: String Based Questions"
   ]
  },
  {
   "cell_type": "code",
   "execution_count": 12,
   "id": "363c40a4-da3f-47c5-9a27-81e6b8d2e1ae",
   "metadata": {},
   "outputs": [
    {
     "name": "stdin",
     "output_type": "stream",
     "text": [
      " 123456789\n"
     ]
    },
    {
     "name": "stdout",
     "output_type": "stream",
     "text": [
      "Lenght of string : 9\n"
     ]
    }
   ],
   "source": [
    "''' 1. Write a Python program that takes a string as input and prints the length of\n",
    "the string. '''\n",
    "\n",
    "#Take string from user\n",
    "strr = input()\n",
    "#Calculate lenght\n",
    "lenght = len(strr)\n",
    "print(f\"Lenght of string : {lenght}\")"
   ]
  },
  {
   "cell_type": "code",
   "execution_count": 15,
   "id": "06644f8a-e38c-4c7b-ad61-12717e0024a3",
   "metadata": {},
   "outputs": [
    {
     "name": "stdin",
     "output_type": "stream",
     "text": [
      " vineet\n"
     ]
    },
    {
     "name": "stdout",
     "output_type": "stream",
     "text": [
      " Number of vowels in string : 3 \n"
     ]
    }
   ],
   "source": [
    "''' 2. Create a program that takes a sentence from the user and counts the number\n",
    "of vowels (a, e, i, o, u) in the string. '''\n",
    "\n",
    "#Take string from user\n",
    "strv = input()\n",
    "#Calculate vowels from string\n",
    "vowels = 'aeiouAEIOU'\n",
    "count = 0\n",
    "for char in strv:\n",
    "    if char in vowels:\n",
    "        count = count + 1\n",
    "print(f\" Number of vowels in string : {count} \")"
   ]
  },
  {
   "cell_type": "code",
   "execution_count": 16,
   "id": "24e404f2-7a3d-4d1a-8e6f-604d40a0249a",
   "metadata": {},
   "outputs": [
    {
     "name": "stdin",
     "output_type": "stream",
     "text": [
      " My name is Teeniv\n"
     ]
    },
    {
     "name": "stdout",
     "output_type": "stream",
     "text": [
      " Revrse string : vineeT si eman yM\n"
     ]
    }
   ],
   "source": [
    "''' 3. Given a string, reverse the order of characters using string slicing and print\n",
    "the reversed string. '''\n",
    "\n",
    "#Take string from user\n",
    "strrev = input()\n",
    "#Print reverse\n",
    "rev = strrev[::-1]\n",
    "print(f\" Revrse string : {rev}\")"
   ]
  },
  {
   "cell_type": "code",
   "execution_count": 20,
   "id": "530ab766-f69e-4682-a601-75befa795c93",
   "metadata": {},
   "outputs": [
    {
     "name": "stdin",
     "output_type": "stream",
     "text": [
      " pamap\n"
     ]
    },
    {
     "name": "stdout",
     "output_type": "stream",
     "text": [
      "True\n"
     ]
    }
   ],
   "source": [
    "''' 4. Write a program that takes a string as input and checks if it is a palindrome\n",
    "(reads the same forwards and backwards). '''\n",
    "\n",
    "#Take string from user\n",
    "strpln = input()\n",
    "#Check palindrome\n",
    "plnstr = strpln[::-1]\n",
    "if plnstr == strpln:\n",
    "    print(\"True\")\n",
    "else:\n",
    "    print(\"False\")\n"
   ]
  },
  {
   "cell_type": "code",
   "execution_count": 23,
   "id": "7a8dad3b-e2a2-45bc-9696-0f7a637cd011",
   "metadata": {},
   "outputs": [
    {
     "name": "stdin",
     "output_type": "stream",
     "text": [
      " Yamine Lamal plays for Spain\n"
     ]
    },
    {
     "name": "stdout",
     "output_type": "stream",
     "text": [
      " String without space : YamineLamalplaysforSpain\n"
     ]
    }
   ],
   "source": [
    "''' 5. Create a program that takes a string as input and removes all the spaces from\n",
    "it. Print the modified string without spaces. '''\n",
    "\n",
    "##Take string from user\n",
    "strws = input()\n",
    "#String without space\n",
    "strwts = strws.replace(' ','')\n",
    "print(f\" String without space : {strwts}\")"
   ]
  },
  {
   "cell_type": "code",
   "execution_count": null,
   "id": "426eb2c9-d6df-4067-a5ac-c7ff477e60ea",
   "metadata": {},
   "outputs": [],
   "source": []
  }
 ],
 "metadata": {
  "kernelspec": {
   "display_name": "Python 3 (ipykernel)",
   "language": "python",
   "name": "python3"
  },
  "language_info": {
   "codemirror_mode": {
    "name": "ipython",
    "version": 3
   },
   "file_extension": ".py",
   "mimetype": "text/x-python",
   "name": "python",
   "nbconvert_exporter": "python",
   "pygments_lexer": "ipython3",
   "version": "3.10.8"
  }
 },
 "nbformat": 4,
 "nbformat_minor": 5
}
